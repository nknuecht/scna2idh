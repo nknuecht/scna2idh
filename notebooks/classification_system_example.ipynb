{
 "cells": [
  {
   "cell_type": "markdown",
   "metadata": {},
   "source": [
    "[PyCaret Installation Documentation](https://pycaret.readthedocs.io/en/latest/installation.html)"
   ]
  },
  {
   "cell_type": "code",
   "execution_count": 1,
   "metadata": {},
   "outputs": [],
   "source": [
    "import pandas as pd\n",
    "import numpy as np\n",
    "import os\n",
    "\n",
    "from pycaret.classification import load_model, predict_model\n",
    "\n",
    "%load_ext autoreload\n",
    "%autoreload 2"
   ]
  },
  {
   "cell_type": "markdown",
   "metadata": {},
   "source": [
    "# Example data"
   ]
  },
  {
   "cell_type": "markdown",
   "metadata": {},
   "source": [
    "## Download glioma TCGA data from UCSC Xena\n",
    "Thresholded GISTIC 2.0 gene-level SCNA data for the TCGA-LGG and TCGA-GBM can be found [here](https://xenabrowser.net/datapages/?dataset=TCGA.GBMLGG.sampleMap%2FGistic2_CopyNumber_Gistic2_all_thresholded.by_genes&host=https%3A%2F%2Ftcga.xenahubs.net&removeHub=https%3A%2F%2Fxena.treehouse.gi.ucsc.edu%3A443)."
   ]
  },
  {
   "cell_type": "code",
   "execution_count": 2,
   "metadata": {
    "scrolled": true
   },
   "outputs": [
    {
     "name": "stdout",
     "output_type": "stream",
     "text": [
      "--2021-12-30 09:37:13--  https://tcga-xena-hub.s3.us-east-1.amazonaws.com/download/TCGA.GBMLGG.sampleMap%2FGistic2_CopyNumber_Gistic2_all_thresholded.by_genes.gz\n",
      "Resolving tcga-xena-hub.s3.us-east-1.amazonaws.com (tcga-xena-hub.s3.us-east-1.amazonaws.com)... 52.216.30.120\n",
      "Connecting to tcga-xena-hub.s3.us-east-1.amazonaws.com (tcga-xena-hub.s3.us-east-1.amazonaws.com)|52.216.30.120|:443... connected.\n",
      "HTTP request sent, awaiting response... 200 OK\n",
      "Length: 1804219 (1.7M) [binary/octet-stream]\n",
      "Saving to: ‘../data/TCGA.GBMLGG.sampleMap%2FGistic2_CopyNumber_Gistic2_all_thresholded.by_genes.gz.2’\n",
      "\n",
      "TCGA.GBMLGG.sampleM 100%[===================>]   1.72M  4.47MB/s    in 0.4s    \n",
      "\n",
      "2021-12-30 09:37:15 (4.47 MB/s) - ‘../data/TCGA.GBMLGG.sampleMap%2FGistic2_CopyNumber_Gistic2_all_thresholded.by_genes.gz.2’ saved [1804219/1804219]\n",
      "\n"
     ]
    }
   ],
   "source": [
    "# Somatic copy number alteration (SCNA) data\n",
    "!wget -P ../data/ https://tcga-xena-hub.s3.us-east-1.amazonaws.com/download/TCGA.GBMLGG.sampleMap%2FGistic2_CopyNumber_Gistic2_all_thresholded.by_genes.gz"
   ]
  },
  {
   "cell_type": "markdown",
   "metadata": {},
   "source": [
    "## Load data"
   ]
  },
  {
   "cell_type": "code",
   "execution_count": 3,
   "metadata": {},
   "outputs": [],
   "source": [
    "# load gene location data and exclude sex chromosomes and small chromosome arms (21p, 22p)\n",
    "gene_loc_df = pd.read_csv('../data/gistic_cytoband_chr_arm_23109x4.csv', index_col=0)\n",
    "chr_arms = ['1p', '1q', '2p', '2q', '3p', '3q', '4p', '4q', '5p', '5q', '6p', '6q', '7p', '7q', \n",
    "            '8p', '8q', '9p', '9q', '10p', '10q', '11p', '11q', '12p', '12q', '13q', '14q', '15q', \n",
    "            '16p', '16q', '17p', '17q', '18p', '18q', '19p', '19q', '20p', '20q', '21q', '22q']\n",
    "gene_loc_df = gene_loc_df.loc[gene_loc_df['chr_arm'].isin(chr_arms)]\n",
    "\n",
    "# load downloaded scna data\n",
    "scna_filepath = '../data/TCGA.GBMLGG.sampleMap%2FGistic2_CopyNumber_Gistic2_all_thresholded.by_genes.gz'\n",
    "scna_df = pd.read_csv(scna_filepath, sep='\\t', index_col=0).T\n",
    "\n",
    "# find genes with chromosome arm annotations in the gene_loc file\n",
    "common_genes = [x for x in scna_df.columns if x in gene_loc_df.index]\n",
    "\n",
    "# Treat homozyous deletions as single-copy loss & high-level amplifications as low-level amplifications \n",
    "scna_df = scna_df[common_genes].replace({-2:-1, 2:1})\n",
    "\n",
    "# average over chromosome arms\n",
    "chrarm_scna_df = pd.concat([gene_loc_df['chr_arm'], scna_df.T], axis=1, join='inner').groupby('chr_arm').mean().T\n",
    "\n",
    "# create a dataframe that only considers losses for the 1p/19q-codeletion screen\n",
    "scna_loss_df = scna_df[common_genes].replace({-2:-1, 2:1})\n",
    "\n",
    "# average over chromosome arms \n",
    "chrarm_scna_loss_df = pd.concat([gene_loc_df['chr_arm'], scna_df.replace({1:0}).T], \n",
    "                                axis=1, join='inner').groupby('chr_arm').mean().T"
   ]
  },
  {
   "cell_type": "markdown",
   "metadata": {},
   "source": [
    "# Stage 1: predict 1p/19q-codeletions"
   ]
  },
  {
   "cell_type": "code",
   "execution_count": 4,
   "metadata": {},
   "outputs": [],
   "source": [
    "# screen for 1p/19q-codeletion (oligodendroglioma prediction)\n",
    "thresh = 0.85\n",
    "oligo_pred_idxs = chrarm_scna_loss_df.loc[(chrarm_scna_loss_df['1p'] < -thresh)\n",
    "                                          & (chrarm_scna_loss_df['1q'] >= -thresh)\n",
    "                                          & (chrarm_scna_loss_df['19p'] >= -thresh)\n",
    "                                          & (chrarm_scna_loss_df['19q'] < -thresh)].index.tolist()\n",
    "astro_pred_idxs = [x for x in chrarm_scna_loss_df.index if x not in oligo_pred_idxs]\n",
    "\n",
    "# make oligo prediction df\n",
    "oligo_pred_df = pd.DataFrame(data=np.ones(len(oligo_pred_idxs))*2, index=oligo_pred_idxs, columns=['Pred'])\n",
    "oligo_pred_df['Score'] = 1\n",
    "oligo_pred_df = oligo_pred_df[['Score', 'Pred']]"
   ]
  },
  {
   "cell_type": "markdown",
   "metadata": {},
   "source": [
    "# Stage 2: predict IDH-mutantions among predicted astrocytic tumors"
   ]
  },
  {
   "cell_type": "code",
   "execution_count": 5,
   "metadata": {},
   "outputs": [
    {
     "name": "stdout",
     "output_type": "stream",
     "text": [
      "Transformation Pipeline and Model Successfully Loaded\n"
     ]
    }
   ],
   "source": [
    "# load classifier\n",
    "idh_classifier = load_model('../models/model_10-14-2021')"
   ]
  },
  {
   "cell_type": "code",
   "execution_count": 6,
   "metadata": {},
   "outputs": [],
   "source": [
    "# SCNA data from tumors without predicted 1p/19q-codeletions\n",
    "astro_chrarm_scna_df = chrarm_scna_df.drop(index=oligo_pred_idxs)\n",
    "\n",
    "# predict IDH-mutations\n",
    "astro_pred_df = predict_model(idh_classifier, data = astro_chrarm_scna_df)\n",
    "astro_pred_df = astro_pred_df[['Score', 'Label']].rename(columns={'Label':'Pred'})"
   ]
  },
  {
   "cell_type": "markdown",
   "metadata": {},
   "source": [
    "# Merge predictions"
   ]
  },
  {
   "cell_type": "code",
   "execution_count": 7,
   "metadata": {},
   "outputs": [],
   "source": [
    "prediction_df = oligo_pred_df.append(astro_pred_df)\n",
    "prediction_df['Pred'] = prediction_df['Pred'].replace({'0.0':'IDH-Wildtype Glioma', '1.0':'IDH-Mutant Astroctyoma',\n",
    "                                                       2:'Oligodendroglioma'})\n",
    "prediction_df = prediction_df.rename(columns={'Score':'Confidence', 'Pred':'Prediction'})"
   ]
  },
  {
   "cell_type": "code",
   "execution_count": 8,
   "metadata": {},
   "outputs": [],
   "source": [
    "threshold = 0.7\n",
    "low_confidence_preds_idxs = prediction_df.loc[prediction_df['Confidence'] < threshold].index\n",
    "prediction_df.loc[low_confidence_preds_idxs, 'Prediction'] = 'Uncertain'"
   ]
  },
  {
   "cell_type": "code",
   "execution_count": 9,
   "metadata": {},
   "outputs": [
    {
     "data": {
      "text/plain": [
       "IDH-Wildtype Glioma       581\n",
       "IDH-Mutant Astroctyoma    283\n",
       "Oligodendroglioma         174\n",
       "Uncertain                  52\n",
       "Name: Prediction, dtype: int64"
      ]
     },
     "execution_count": 9,
     "metadata": {},
     "output_type": "execute_result"
    }
   ],
   "source": [
    "prediction_df['Prediction'].value_counts()"
   ]
  },
  {
   "cell_type": "code",
   "execution_count": 10,
   "metadata": {},
   "outputs": [],
   "source": [
    "if not os.path.exists('../results/'):\n",
    "    os.makedirs('../results/')\n",
    "prediction_df.to_csv('../results/tcga_ucsc_glioma_prediction_results.csv')"
   ]
  }
 ],
 "metadata": {
  "kernelspec": {
   "display_name": "Python 3",
   "language": "python",
   "name": "python3"
  },
  "language_info": {
   "codemirror_mode": {
    "name": "ipython",
    "version": 3
   },
   "file_extension": ".py",
   "mimetype": "text/x-python",
   "name": "python",
   "nbconvert_exporter": "python",
   "pygments_lexer": "ipython3",
   "version": "3.8.2"
  },
  "varInspector": {
   "cols": {
    "lenName": 16,
    "lenType": 16,
    "lenVar": 40
   },
   "kernels_config": {
    "python": {
     "delete_cmd_postfix": "",
     "delete_cmd_prefix": "del ",
     "library": "var_list.py",
     "varRefreshCmd": "print(var_dic_list())"
    },
    "r": {
     "delete_cmd_postfix": ") ",
     "delete_cmd_prefix": "rm(",
     "library": "var_list.r",
     "varRefreshCmd": "cat(var_dic_list()) "
    }
   },
   "types_to_exclude": [
    "module",
    "function",
    "builtin_function_or_method",
    "instance",
    "_Feature"
   ],
   "window_display": false
  }
 },
 "nbformat": 4,
 "nbformat_minor": 4
}
