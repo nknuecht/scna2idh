{
 "cells": [
  {
   "cell_type": "code",
   "execution_count": 1,
   "metadata": {},
   "outputs": [],
   "source": [
    "import sys\n",
    "sys.path.append('../utils/')\n",
    "\n",
    "import numpy as np\n",
    "import pandas as pd\n",
    "\n",
    "from plotting import scna_manhattan_plot\n",
    "\n",
    "import matplotlib as mpl\n",
    "mpl.rcParams['pdf.fonttype'] = 42\n",
    "\n",
    "import matplotlib.pyplot as plt\n",
    "plt.rcParams['font.family'] = \"sans-serif\"\n",
    "plt.rcParams['font.sans-serif'] = 'Arial'\n",
    "%matplotlib inline\n",
    "\n",
    "%load_ext autoreload\n",
    "%autoreload 2"
   ]
  },
  {
   "cell_type": "markdown",
   "metadata": {},
   "source": [
    "# Data"
   ]
  },
  {
   "cell_type": "code",
   "execution_count": 2,
   "metadata": {},
   "outputs": [],
   "source": [
    "# clinical data\n",
    "tcga_clinical_df = pd.read_csv('../data/clinical_data/tcga_train_clinical_data.csv', index_col=0)\n",
    "\n",
    "oligo_formal_name = 'Oligodendroglioma, IDH-mutant\\nand 1p/19q-codeleted'\n",
    "mut_astro_formal_name = 'Astrocytoma, IDH-mutant'\n",
    "wt_formal_name = 'Glioblastoma, IDH-wildtype'\n",
    "\n",
    "replace_dict = {'Oligodendroglioma':oligo_formal_name, \n",
    "               'IDH-Mutant Astrocytoma':mut_astro_formal_name, \n",
    "               'IDH-Wildtype Glioblastoma':wt_formal_name}\n",
    "tcga_clinical_df['WHO_2021_Subtype'] = tcga_clinical_df['WHO_2021_Subtype'].replace(replace_dict)"
   ]
  },
  {
   "cell_type": "code",
   "execution_count": 3,
   "metadata": {},
   "outputs": [
    {
     "name": "stdout",
     "output_type": "stream",
     "text": [
      "--2021-12-30 09:58:19--  https://tcga-xena-hub.s3.us-east-1.amazonaws.com/download/TCGA.GBMLGG.sampleMap%2FGistic2_CopyNumber_Gistic2_all_thresholded.by_genes.gz\n",
      "Resolving tcga-xena-hub.s3.us-east-1.amazonaws.com (tcga-xena-hub.s3.us-east-1.amazonaws.com)... 52.217.42.112\n",
      "Connecting to tcga-xena-hub.s3.us-east-1.amazonaws.com (tcga-xena-hub.s3.us-east-1.amazonaws.com)|52.217.42.112|:443... connected.\n",
      "HTTP request sent, awaiting response... 200 OK\n",
      "Length: 1804219 (1.7M) [binary/octet-stream]\n",
      "Saving to: ‘../data/TCGA.GBMLGG.sampleMap%2FGistic2_CopyNumber_Gistic2_all_thresholded.by_genes.gz’\n",
      "\n",
      "TCGA.GBMLGG.sampleM 100%[===================>]   1.72M  3.17MB/s    in 0.5s    \n",
      "\n",
      "2021-12-30 09:58:20 (3.17 MB/s) - ‘../data/TCGA.GBMLGG.sampleMap%2FGistic2_CopyNumber_Gistic2_all_thresholded.by_genes.gz’ saved [1804219/1804219]\n",
      "\n"
     ]
    }
   ],
   "source": [
    "# Somatic copy number alteration (SCNA) data\n",
    "!wget -P ../data/ https://tcga-xena-hub.s3.us-east-1.amazonaws.com/download/TCGA.GBMLGG.sampleMap%2FGistic2_CopyNumber_Gistic2_all_thresholded.by_genes.gz\n",
    "\n",
    "scna_filepath = '../data/TCGA.GBMLGG.sampleMap%2FGistic2_CopyNumber_Gistic2_all_thresholded.by_genes.gz'\n",
    "manhattan_scna_df = pd.read_csv(scna_filepath, sep='\\t', index_col=0).T\n",
    "manhattan_scna_df.index = manhattan_scna_df.index.str[:-3]\n",
    "\n",
    "# gene location data\n",
    "manhattan_gene_loc_df = pd.read_csv('../data/gene_data/manhattan_gene_loc.csv', index_col=0)"
   ]
  },
  {
   "cell_type": "markdown",
   "metadata": {},
   "source": [
    "# Figure 1A"
   ]
  },
  {
   "cell_type": "code",
   "execution_count": null,
   "metadata": {},
   "outputs": [],
   "source": [
    "outfile, save = None, False\n",
    "title = oligo_formal_name.replace('\\n', ' ')\n",
    "\n",
    "chroms = [str(i+1) for i in range(22)]\n",
    "idxs = tcga_clinical_df.loc[tcga_clinical_df['WHO_2021_Subtype'] == oligo_formal_name].index\n",
    "_ = scna_manhattan_plot(scna_df=manhattan_scna_df.loc[idxs], \n",
    "                      gene_loc_df=manhattan_gene_loc_df,\n",
    "                      chroms=chroms,\n",
    "                      exclude_genes=[],\n",
    "                      title=title,\n",
    "                      ylim=1.0,\n",
    "                      chrom_label_size=12,\n",
    "                      tick_size=14,\n",
    "                      chrom_label_ypos=-1.15,\n",
    "                      xlabel = '\\nChromosome',\n",
    "                      save=save,\n",
    "                      title_size=30,\n",
    "                      outfile=outfile,\n",
    "                      figsize=(12, 4))"
   ]
  },
  {
   "cell_type": "markdown",
   "metadata": {},
   "source": [
    "# Figure 1B"
   ]
  },
  {
   "cell_type": "code",
   "execution_count": null,
   "metadata": {},
   "outputs": [],
   "source": [
    "outfile, save = None, False\n",
    "title = wt_formal_name\n",
    "\n",
    "chroms = [str(i+1) for i in range(22)]\n",
    "idxs = tcga_clinical_df.loc[tcga_clinical_df['WHO_2021_Subtype'] == wt_formal_name].index\n",
    "_ = scna_manhattan_plot(scna_df=manhattan_scna_df.loc[idxs], \n",
    "                      gene_loc_df=manhattan_gene_loc_df,\n",
    "                      chroms=chroms,\n",
    "                      exclude_genes=[],\n",
    "                      title=title,\n",
    "                      ylim=1.0,\n",
    "                      chrom_label_size=12,\n",
    "                      tick_size=14,\n",
    "                      chrom_label_ypos=-1.15,\n",
    "                      xlabel = '\\nChromosome',\n",
    "                      save=save,\n",
    "                      title_size=30,\n",
    "                      outfile=outfile,\n",
    "                      figsize=(12, 4))"
   ]
  },
  {
   "cell_type": "markdown",
   "metadata": {},
   "source": [
    "# Figure 1C"
   ]
  },
  {
   "cell_type": "code",
   "execution_count": null,
   "metadata": {},
   "outputs": [],
   "source": [
    "outfile, save = None, False\n",
    "title = mut_astro_formal_name\n",
    "\n",
    "chroms = [str(i+1) for i in range(22)]\n",
    "idxs = tcga_clinical_df.loc[tcga_clinical_df['WHO_2021_Subtype'] == mut_astro_formal_name].index\n",
    "_ = scna_manhattan_plot(scna_df=manhattan_scna_df.loc[idxs], \n",
    "                      gene_loc_df=manhattan_gene_loc_df,\n",
    "                      chroms=chroms,\n",
    "                      exclude_genes=[],\n",
    "                      title=title,\n",
    "                      ylim=1.0,\n",
    "                      chrom_label_size=12,\n",
    "                      tick_size=14,\n",
    "                      chrom_label_ypos=-1.15,\n",
    "                      xlabel = '\\nChromosome',\n",
    "                      save=save,\n",
    "                      title_size=30,\n",
    "                      outfile=outfile,\n",
    "                      figsize=(12, 4))"
   ]
  },
  {
   "cell_type": "markdown",
   "metadata": {},
   "source": [
    "# Figure 1D"
   ]
  },
  {
   "cell_type": "code",
   "execution_count": null,
   "metadata": {},
   "outputs": [],
   "source": [
    "umap_df = pd.read_csv('../data/fig1_umap.csv', index_col=0)\n",
    "color_dict = {wt_formal_name: '#2b3a41', mut_astro_formal_name: '#edca4a', oligo_formal_name: 'forestgreen'}\n",
    "\n",
    "# plot\n",
    "fig, ax = plt.subplots(figsize=(14,11))\n",
    "\n",
    "for subtype_name in [wt_formal_name, mut_astro_formal_name, oligo_formal_name]:\n",
    "    subtype_idxs = tcga_clinical_df.loc[tcga_clinical_df['WHO_2021_Subtype'] == subtype_name].index\n",
    "    _umap_df = umap_df.loc[subtype_idxs]\n",
    "    plt.scatter(_umap_df['umap1'], _umap_df['umap2'], c=color_dict[subtype_name], label=subtype_name)\n",
    "    \n",
    "plt.title('Adult Diffuse Glioma Molecular Subtypes', fontsize=32)\n",
    "plt.xlabel('UMAP1', fontsize=22)\n",
    "plt.ylabel('UMAP2', fontsize=22)\n",
    "\n",
    "plt.xticks([])\n",
    "plt.yticks([])\n",
    "\n",
    "plt.legend(fontsize=30, markerscale=4)\n",
    "plt.tight_layout()"
   ]
  },
  {
   "cell_type": "code",
   "execution_count": null,
   "metadata": {},
   "outputs": [],
   "source": []
  }
 ],
 "metadata": {
  "kernelspec": {
   "display_name": "Python 3",
   "language": "python",
   "name": "python3"
  },
  "language_info": {
   "codemirror_mode": {
    "name": "ipython",
    "version": 3
   },
   "file_extension": ".py",
   "mimetype": "text/x-python",
   "name": "python",
   "nbconvert_exporter": "python",
   "pygments_lexer": "ipython3",
   "version": "3.8.2"
  },
  "varInspector": {
   "cols": {
    "lenName": 16,
    "lenType": 16,
    "lenVar": 40
   },
   "kernels_config": {
    "python": {
     "delete_cmd_postfix": "",
     "delete_cmd_prefix": "del ",
     "library": "var_list.py",
     "varRefreshCmd": "print(var_dic_list())"
    },
    "r": {
     "delete_cmd_postfix": ") ",
     "delete_cmd_prefix": "rm(",
     "library": "var_list.r",
     "varRefreshCmd": "cat(var_dic_list()) "
    }
   },
   "types_to_exclude": [
    "module",
    "function",
    "builtin_function_or_method",
    "instance",
    "_Feature"
   ],
   "window_display": false
  }
 },
 "nbformat": 4,
 "nbformat_minor": 4
}
